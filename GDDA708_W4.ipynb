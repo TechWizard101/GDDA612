{
  "cells": [
    {
      "cell_type": "markdown",
      "metadata": {
        "id": "view-in-github",
        "colab_type": "text"
      },
      "source": [
        "<a href=\"https://colab.research.google.com/github/TechWizard101/GDDA612/blob/main/GDDA708_W4.ipynb\" target=\"_parent\"><img src=\"https://colab.research.google.com/assets/colab-badge.svg\" alt=\"Open In Colab\"/></a>"
      ]
    },
    {
      "cell_type": "code",
      "source": [
        "from google.colab import drive\n",
        "drive.mount('/content/drive')"
      ],
      "metadata": {
        "colab": {
          "base_uri": "https://localhost:8080/"
        },
        "id": "LJwUH7w8RppK",
        "outputId": "b85e35da-886c-40fc-f002-61eb0bc02d17"
      },
      "id": "LJwUH7w8RppK",
      "execution_count": 5,
      "outputs": [
        {
          "output_type": "stream",
          "name": "stdout",
          "text": [
            "Mounted at /content/drive\n"
          ]
        }
      ]
    },
    {
      "cell_type": "code",
      "source": [
        "ls"
      ],
      "metadata": {
        "colab": {
          "base_uri": "https://localhost:8080/"
        },
        "id": "LuPUPYaBRpke",
        "outputId": "684eafb4-86c4-44d1-f919-fca13f16c358"
      },
      "id": "LuPUPYaBRpke",
      "execution_count": 6,
      "outputs": [
        {
          "output_type": "stream",
          "name": "stdout",
          "text": [
            "\u001b[0m\u001b[01;34mdrive\u001b[0m/  \u001b[01;34msample_data\u001b[0m/\n"
          ]
        }
      ]
    },
    {
      "cell_type": "code",
      "source": [
        "cd drive"
      ],
      "metadata": {
        "colab": {
          "base_uri": "https://localhost:8080/"
        },
        "id": "wBiuwN3gRpgC",
        "outputId": "3ccf4cbc-d3ae-4b83-f43a-bd8f3ef4b8a2"
      },
      "id": "wBiuwN3gRpgC",
      "execution_count": 7,
      "outputs": [
        {
          "output_type": "stream",
          "name": "stdout",
          "text": [
            "/content/drive\n"
          ]
        }
      ]
    },
    {
      "cell_type": "code",
      "source": [
        "ls"
      ],
      "metadata": {
        "colab": {
          "base_uri": "https://localhost:8080/"
        },
        "id": "Vo5MrjUwRpZ_",
        "outputId": "8e0e6829-3515-406c-9bed-8a3e240ffe93"
      },
      "id": "Vo5MrjUwRpZ_",
      "execution_count": 8,
      "outputs": [
        {
          "output_type": "stream",
          "name": "stdout",
          "text": [
            "\u001b[0m\u001b[01;34mMyDrive\u001b[0m/\n"
          ]
        }
      ]
    },
    {
      "cell_type": "code",
      "source": [
        "cd MyDrive"
      ],
      "metadata": {
        "colab": {
          "base_uri": "https://localhost:8080/"
        },
        "id": "8UTfFMnHRpCJ",
        "outputId": "c0dedf96-7e7f-4dd2-e7df-aefd2d92a1d0"
      },
      "id": "8UTfFMnHRpCJ",
      "execution_count": 9,
      "outputs": [
        {
          "output_type": "stream",
          "name": "stdout",
          "text": [
            "/content/drive/MyDrive\n"
          ]
        }
      ]
    },
    {
      "cell_type": "code",
      "source": [
        "ls"
      ],
      "metadata": {
        "colab": {
          "base_uri": "https://localhost:8080/"
        },
        "id": "yGzXOfluSC_b",
        "outputId": "445e8910-542f-4df3-d61c-e91ebf8961ef"
      },
      "id": "yGzXOfluSC_b",
      "execution_count": 10,
      "outputs": [
        {
          "output_type": "stream",
          "name": "stdout",
          "text": [
            " BL-Flickr-Images-Book.csv  \u001b[0m\u001b[01;34m'Colab Notebooks'\u001b[0m/  \u001b[01;34m'GDDA7124C - Data Analytics'\u001b[0m/   olympics.csv\n"
          ]
        }
      ]
    },
    {
      "cell_type": "code",
      "source": [
        "cd GDDA7124C - Data Analytics"
      ],
      "metadata": {
        "colab": {
          "base_uri": "https://localhost:8080/"
        },
        "id": "9hHSkEnvSC5a",
        "outputId": "d2ea0fdd-c3aa-4bb2-8abc-29088b4e6041"
      },
      "id": "9hHSkEnvSC5a",
      "execution_count": 11,
      "outputs": [
        {
          "output_type": "stream",
          "name": "stdout",
          "text": [
            "/content/drive/MyDrive/GDDA7124C - Data Analytics\n"
          ]
        }
      ]
    },
    {
      "cell_type": "code",
      "source": [
        "ls"
      ],
      "metadata": {
        "colab": {
          "base_uri": "https://localhost:8080/"
        },
        "id": "hY2wFD3PSLm2",
        "outputId": "2708553e-e272-4c4c-cf50-d5a0dd554382"
      },
      "id": "hY2wFD3PSLm2",
      "execution_count": 12,
      "outputs": [
        {
          "output_type": "stream",
          "name": "stdout",
          "text": [
            " BL-Flickr-Images-Book.csv   heart.csv   olympics.csv               'train .txt.csv'\n",
            " GDDA708_Lab03_DTree.ipynb   hw1.ipynb   olympics.ipynb             'Week 3 - olympics.ipynb'\n",
            " GDDA708_W4.ipynb            Iris.xlsx   pima-indians-diabetes.csv\n"
          ]
        }
      ]
    },
    {
      "cell_type": "code",
      "execution_count": 13,
      "id": "cf74bbc8-a658-4f9f-b543-61286dcf6a50",
      "metadata": {
        "id": "cf74bbc8-a658-4f9f-b543-61286dcf6a50"
      },
      "outputs": [],
      "source": [
        "import pandas as pd\n",
        "import numpy as np\n",
        "from sklearn.model_selection import train_test_split, cross_val_score\n",
        "from sklearn.feature_selection import SelectKBest\n",
        "from sklearn.feature_selection import chi2\n",
        "from sklearn.linear_model import LogisticRegression\n",
        "from sklearn.feature_selection import RFE\n",
        "from sklearn.metrics import accuracy_score\n",
        "from sklearn.decomposition import PCA\n",
        "from sklearn.ensemble import ExtraTreesClassifier\n",
        "from sklearn.feature_selection import SelectFromModel\n",
        "from sklearn.feature_selection import SelectKBest, f_classif"
      ]
    },
    {
      "cell_type": "code",
      "execution_count": 14,
      "id": "69692585-816f-4d4d-98ff-e97f6ee03145",
      "metadata": {
        "id": "69692585-816f-4d4d-98ff-e97f6ee03145"
      },
      "outputs": [],
      "source": [
        "# Load the data\n",
        "rawdata = pd.read_csv('pima-indians-diabetes.csv')\n",
        "\n",
        "# Separate features (X) and target variable (Y)\n",
        "X = rawdata.drop(columns=['Class'])  # Assuming 'Class' is the target variable\n",
        "Y = rawdata['Class']"
      ]
    },
    {
      "cell_type": "code",
      "execution_count": 15,
      "id": "5f501beb-9506-4d5d-a63f-ac446912be9f",
      "metadata": {
        "id": "5f501beb-9506-4d5d-a63f-ac446912be9f"
      },
      "outputs": [],
      "source": [
        "#2)\tFeature Extraction with Univariate Statistical Tests\n",
        "# Initialize SelectKBest with f_classif scoring and k=3 (top 3 features)\n",
        "feature_selector = SelectKBest(score_func=f_classif, k=3)\n",
        "\n",
        "# Fit SelectKBest to the data\n",
        "fit = feature_selector.fit(X, Y)\n",
        "\n",
        "# Get the indices of the selected features\n",
        "selected_features_indices = fit.get_support(indices=True)"
      ]
    },
    {
      "cell_type": "code",
      "execution_count": 16,
      "id": "e8eadea4-329d-4631-8396-baff21ebc1ca",
      "metadata": {
        "colab": {
          "base_uri": "https://localhost:8080/"
        },
        "id": "e8eadea4-329d-4631-8396-baff21ebc1ca",
        "outputId": "904a9152-3bb0-4df9-ec9f-9751ec482ea7"
      },
      "outputs": [
        {
          "output_type": "stream",
          "name": "stdout",
          "text": [
            "Feature scores:\n",
            "                    Feature       Score\n",
            "1                   Glucose  213.161752\n",
            "5                       BMI   71.772072\n",
            "7                       Age   46.140611\n",
            "0               Pregnancies   39.670227\n",
            "6  DiabetesPedigreeFunction   23.871300\n",
            "4                   Insulin   13.281108\n",
            "3             SkinThickness    4.304381\n",
            "2             BloodPressure    3.256950\n"
          ]
        }
      ],
      "source": [
        "# Get the scores of the features\n",
        "feature_scores = fit.scores_\n",
        "\n",
        "# Create a DataFrame to summarize scores with feature names\n",
        "score_summary = pd.DataFrame({'Feature': X.columns, 'Score': feature_scores})\n",
        "\n",
        "# Sort the DataFrame by scores in descending order\n",
        "score_summary = score_summary.sort_values(by='Score', ascending=False)\n",
        "\n",
        "# Print the summary\n",
        "print(\"Feature scores:\")\n",
        "print(score_summary)\n"
      ]
    },
    {
      "cell_type": "code",
      "execution_count": 17,
      "id": "33a19aec-4906-4561-a024-4e4e2d00bc08",
      "metadata": {
        "colab": {
          "base_uri": "https://localhost:8080/"
        },
        "id": "33a19aec-4906-4561-a024-4e4e2d00bc08",
        "outputId": "584a7eef-8793-4175-8e29-28ecbf89696a"
      },
      "outputs": [
        {
          "output_type": "stream",
          "name": "stdout",
          "text": [
            "Names of the selected features:\n",
            "Glucose\n",
            "BMI\n",
            "Age\n"
          ]
        }
      ],
      "source": [
        "# Get the names of the selected features\n",
        "selected_feature_names = X.columns[selected_features_indices]\n",
        "\n",
        "# Print the names of the selected features\n",
        "print(\"Names of the selected features:\")\n",
        "for feature_name in selected_feature_names:\n",
        "    print(feature_name)"
      ]
    },
    {
      "cell_type": "code",
      "execution_count": 18,
      "id": "2d5786e1-cb74-4743-8886-0431338e0eb8",
      "metadata": {
        "colab": {
          "base_uri": "https://localhost:8080/"
        },
        "id": "2d5786e1-cb74-4743-8886-0431338e0eb8",
        "outputId": "1e905e7c-67e0-4b72-f290-2f604c150903"
      },
      "outputs": [
        {
          "output_type": "stream",
          "name": "stdout",
          "text": [
            "Shape of the selected feature matrix: (768, 3)\n"
          ]
        }
      ],
      "source": [
        "# Get the indices of the K most significant features\n",
        "k_most_significant_indices = selected_features_indices[:3]  # Replace K with the desired number of features\n",
        "\n",
        "# Subset the feature matrix with the K most significant features\n",
        "X_selected = X.iloc[:, k_most_significant_indices]\n",
        "\n",
        "# Print the shape of the new feature matrix\n",
        "print(\"Shape of the selected feature matrix:\", X_selected.shape)\n"
      ]
    },
    {
      "cell_type": "code",
      "execution_count": 19,
      "id": "f8507b57-de3a-4152-84a8-f4e19a531b7e",
      "metadata": {
        "colab": {
          "base_uri": "https://localhost:8080/"
        },
        "id": "f8507b57-de3a-4152-84a8-f4e19a531b7e",
        "outputId": "8b4b67e0-f692-4dc6-9f8a-d6ad019b7ac4"
      },
      "outputs": [
        {
          "output_type": "stream",
          "name": "stdout",
          "text": [
            "Accuracy score of the logistic regression model: 0.77\n"
          ]
        }
      ],
      "source": [
        "# Split the data into training and testing sets\n",
        "pred_train, pred_test, tar_train, tar_test = train_test_split(X_selected, Y, test_size=0.3, random_state=2)\n",
        "\n",
        "# Initialize the logistic regression model\n",
        "logreg = LogisticRegression(random_state=2)\n",
        "\n",
        "# Fit the model to the training data\n",
        "logreg.fit(pred_train, tar_train)\n",
        "\n",
        "# Make predictions on the testing data\n",
        "predictions = logreg.predict(pred_test)\n",
        "\n",
        "# Compute accuracy score\n",
        "accuracy = accuracy_score(tar_test, predictions)\n",
        "\n",
        "# Print the accuracy score\n",
        "print(\"Accuracy score of the logistic regression model: %.2f\" % accuracy)\n"
      ]
    },
    {
      "cell_type": "code",
      "execution_count": 20,
      "id": "47601c94-4011-4a4a-b80c-c61f1fff1e66",
      "metadata": {
        "id": "47601c94-4011-4a4a-b80c-c61f1fff1e66"
      },
      "outputs": [],
      "source": [
        "'''\n",
        "3)\tFeature Extraction with - Recursive Feature Extraction (RFE)\n",
        "\n",
        "'''\n",
        "# Initialize logistic regression model\n",
        "logreg = LogisticRegression(max_iter=1000)\n",
        "\n",
        "# Initialize RFE with the logistic regression model and the desired number of features\n",
        "rfe = RFE(estimator=logreg, n_features_to_select=3)\n",
        "\n",
        "# Fit RFE to the data\n",
        "rfe.fit(X, Y)\n",
        "\n",
        "# Get the indices of the selected features\n",
        "selected_features_indices = rfe.support_\n",
        "\n",
        "# Get the names of the selected features\n",
        "selected_feature_names = [f\"Feature {i+1}\" for i, selected in enumerate(selected_features_indices) if selected]\n"
      ]
    },
    {
      "cell_type": "code",
      "execution_count": 21,
      "id": "2ebcec90-e110-4f43-adaf-016b99e77149",
      "metadata": {
        "id": "2ebcec90-e110-4f43-adaf-016b99e77149"
      },
      "outputs": [],
      "source": [
        " #Get the indices of the selected features\n",
        "selected_features_indices = rfe.support_\n",
        "# Get the names of the selected features\n",
        "selected_feature_names = X.columns[selected_features_indices]"
      ]
    },
    {
      "cell_type": "code",
      "execution_count": 22,
      "id": "f4ac9980-5735-4233-9271-9ebcbb06fbd7",
      "metadata": {
        "colab": {
          "base_uri": "https://localhost:8080/"
        },
        "id": "f4ac9980-5735-4233-9271-9ebcbb06fbd7",
        "outputId": "c700abdc-e3f7-42a8-cc59-0604baac80f3"
      },
      "outputs": [
        {
          "output_type": "stream",
          "name": "stdout",
          "text": [
            "Num Features: 3\n",
            "Names of the selected features:\n",
            "Pregnancies\n",
            "BMI\n",
            "DiabetesPedigreeFunction\n",
            "Feature Ranking: [1 2 4 6 5 1 1 3]\n"
          ]
        }
      ],
      "source": [
        "# Print the number of features selected\n",
        "print(\"Num Features: %d\" % rfe.n_features_)\n",
        "# Print the names of the selected features\n",
        "print(\"Names of the selected features:\")\n",
        "for feature_name in selected_feature_names:\n",
        "    print(feature_name)\n",
        "# Print the feature ranking\n",
        "print(\"Feature Ranking: %s\" % rfe.ranking_)"
      ]
    },
    {
      "cell_type": "code",
      "execution_count": 23,
      "id": "9a27fbf8-262c-411e-a200-1d225163ddf1",
      "metadata": {
        "id": "9a27fbf8-262c-411e-a200-1d225163ddf1"
      },
      "outputs": [],
      "source": [
        "# Transform the original feature matrix to retain only the selected features\n",
        "selected_features = rfe.transform(X)\n",
        "# Extract the indices of the selected features\n",
        "selected_features_indices = rfe.get_support(indices=True)"
      ]
    },
    {
      "cell_type": "code",
      "execution_count": 24,
      "id": "5e20b5a4-93c7-4fe0-bf50-c5ca517f9409",
      "metadata": {
        "id": "5e20b5a4-93c7-4fe0-bf50-c5ca517f9409"
      },
      "outputs": [],
      "source": [
        "selected_features_indices = selected_features_indices[:3]"
      ]
    },
    {
      "cell_type": "code",
      "execution_count": 25,
      "id": "f75306dd-5d00-4714-b711-606d8cfba6f8",
      "metadata": {
        "id": "f75306dd-5d00-4714-b711-606d8cfba6f8"
      },
      "outputs": [],
      "source": [
        "# Select the K most significant features if there are at least K features selected\n",
        "K = 3  # Replace with the desired number of features\n",
        "if len(selected_features_indices) >= K:\n",
        "    selected_features_indices = selected_features_indices[:K]\n",
        "    pred_features = selected_features\n",
        "else:\n",
        "    print(\"Number of features selected by RFE is less than K.\")\n",
        "\n",
        "# Split the data into training and testing sets\n",
        "pred_train, pred_test, tar_train, tar_test = train_test_split(pred_features, Y, test_size=0.3, random_state=20)"
      ]
    },
    {
      "cell_type": "code",
      "execution_count": 26,
      "id": "055beefc-355c-4b17-8fe3-8aa81ddb82b1",
      "metadata": {
        "colab": {
          "base_uri": "https://localhost:8080/"
        },
        "id": "055beefc-355c-4b17-8fe3-8aa81ddb82b1",
        "outputId": "6c37ee7a-663a-462b-978f-90e30264381f"
      },
      "outputs": [
        {
          "output_type": "stream",
          "name": "stdout",
          "text": [
            "Accuracy score of the model with RFE selection: 0.68\n"
          ]
        }
      ],
      "source": [
        "# Train a logistic regression model using the selected features\n",
        "logreg_rfe = LogisticRegression(max_iter=1000)\n",
        "logreg_rfe.fit(pred_train, tar_train)\n",
        "\n",
        "# Make predictions on the testing data\n",
        "predictions_rfe = logreg_rfe.predict(pred_test)\n",
        "\n",
        "# Compute accuracy score\n",
        "accuracy_rfe = accuracy_score(tar_test, predictions_rfe)\n",
        "\n",
        "# Print the accuracy score\n",
        "print(\"Accuracy score of the model with RFE selection: %.2f\" % accuracy_rfe)\n"
      ]
    },
    {
      "cell_type": "code",
      "execution_count": 27,
      "id": "f4e72ecd-cdde-4ade-8773-11acc6b94087",
      "metadata": {
        "colab": {
          "base_uri": "https://localhost:8080/"
        },
        "id": "f4e72ecd-cdde-4ade-8773-11acc6b94087",
        "outputId": "20306313-d344-4282-afa9-a3d4ce03cde9"
      },
      "outputs": [
        {
          "output_type": "stream",
          "name": "stdout",
          "text": [
            "Explained Variance: [0.88854663 0.06159078 0.02579012]\n",
            "Components:\n",
            " [[-2.02176587e-03  9.78115765e-02  1.60930503e-02  6.07566861e-02\n",
            "   9.93110844e-01  1.40108085e-02  5.37167919e-04 -3.56474430e-03]\n",
            " [-2.26488861e-02 -9.72210040e-01 -1.41909330e-01  5.78614699e-02\n",
            "   9.46266913e-02 -4.69729766e-02 -8.16804621e-04 -1.40168181e-01]\n",
            " [-2.24649003e-02  1.43428710e-01 -9.22467192e-01 -3.07013055e-01\n",
            "   2.09773019e-02 -1.32444542e-01 -6.39983017e-04 -1.25454310e-01]]\n"
          ]
        }
      ],
      "source": [
        "\n",
        "# Initialize PCA with the desired number of components (K=3)\n",
        "pca = PCA(n_components=3)\n",
        "\n",
        "# Fit PCA to the data\n",
        "fit = pca.fit(X)\n",
        "\n",
        "# Summarize components\n",
        "print(\"Explained Variance: %s\" % (fit.explained_variance_ratio_))\n",
        "print(\"Components:\\n\", fit.components_)\n",
        "\n",
        "# Apply only the K most significant features (components) according to PCA feature selection\n",
        "features = fit.transform(X)\n",
        "pred_features = features[:, :3]\n",
        "\n",
        "# Split the data into training and testing sets\n",
        "pred_train, pred_test, tar_train, tar_test = train_test_split(pred_features, Y, test_size=0.3, random_state=2)\n",
        "\n",
        "\n"
      ]
    },
    {
      "cell_type": "code",
      "execution_count": 28,
      "id": "a1d0ccc6-c955-4d76-af21-d115cf31b89e",
      "metadata": {
        "colab": {
          "base_uri": "https://localhost:8080/"
        },
        "id": "a1d0ccc6-c955-4d76-af21-d115cf31b89e",
        "outputId": "ad8a05ab-0406-4d72-c659-367f953fbaa2"
      },
      "outputs": [
        {
          "output_type": "stream",
          "name": "stdout",
          "text": [
            "Accuracy score of our model with PCA selection and logistic regression: 0.75\n"
          ]
        }
      ],
      "source": [
        "# Initialize logistic regression model\n",
        "logreg_pca = LogisticRegression(max_iter=1000)\n",
        "\n",
        "# Fit logistic regression model to the PCA-transformed features\n",
        "logreg_pca.fit(pred_train, tar_train)\n",
        "\n",
        "# Make predictions on the test set\n",
        "predictions_pca = logreg_pca.predict(pred_test)\n",
        "\n",
        "# Compute accuracy score\n",
        "accuracy_pca = accuracy_score(tar_test, predictions_pca)\n",
        "\n",
        "# Print the accuracy score\n",
        "print(\"Accuracy score of our model with PCA selection and logistic regression: %.2f\" % accuracy_pca)"
      ]
    },
    {
      "cell_type": "code",
      "execution_count": 29,
      "id": "71175e49-0016-40b1-8ad3-4e32d4508025",
      "metadata": {
        "colab": {
          "base_uri": "https://localhost:8080/"
        },
        "id": "71175e49-0016-40b1-8ad3-4e32d4508025",
        "outputId": "5c1c287c-721f-4fcd-d909-4a7dcc6f2bb8"
      },
      "outputs": [
        {
          "output_type": "stream",
          "name": "stdout",
          "text": [
            "Skewness: [ 0.89991194  0.17341396 -1.84000523  0.10915876  2.26781046 -0.42814328\n",
            "  1.9161592   1.12738926  0.6337757 ]\n"
          ]
        }
      ],
      "source": [
        "from scipy.stats import skew, kurtosis\n",
        "# Calculate skewness\n",
        "skewness = skew(rawdata)\n",
        "print(\"Skewness:\", skewness)\n"
      ]
    }
  ],
  "metadata": {
    "kernelspec": {
      "display_name": "Python 3 (ipykernel)",
      "language": "python",
      "name": "python3"
    },
    "language_info": {
      "codemirror_mode": {
        "name": "ipython",
        "version": 3
      },
      "file_extension": ".py",
      "mimetype": "text/x-python",
      "name": "python",
      "nbconvert_exporter": "python",
      "pygments_lexer": "ipython3",
      "version": "3.11.7"
    },
    "colab": {
      "provenance": [],
      "include_colab_link": true
    }
  },
  "nbformat": 4,
  "nbformat_minor": 5
}